{
 "cells": [
  {
   "cell_type": "markdown",
   "id": "2b3ecea1",
   "metadata": {},
   "source": [
    "# NLP - Lab 03\n",
    "\n",
    "### Let's beat the results we obtained with naive Bayes using the FastText library\n",
    "\n",
    "---\n",
    "\n",
    "Authors :\n",
    "\n",
    "eliott.bouhana\\\n",
    "victor.simonin\\\n",
    "alexandre.lemonnier\\\n",
    "sarah.gutierez"
   ]
  },
  {
   "cell_type": "markdown",
   "id": "38d3752c",
   "metadata": {},
   "source": [
    "----\n",
    "\n",
    "## The dataset"
   ]
  },
  {
   "cell_type": "code",
   "execution_count": 1,
   "id": "951ef258",
   "metadata": {},
   "outputs": [
    {
     "name": "stderr",
     "output_type": "stream",
     "text": [
      "Reusing dataset imdb (/home/leme/.cache/huggingface/datasets/imdb/plain_text/1.0.0/2fdd8b9bcadd6e7055e742a706876ba43f19faee861df134affd7a3f60fc38a1)\n",
      "100%|██████████| 3/3 [00:00<00:00, 41.79it/s]\n"
     ]
    }
   ],
   "source": [
    "import numpy as np\n",
    "from datasets import load_dataset\n",
    "dataset = load_dataset(\"imdb\")"
   ]
  },
  {
   "cell_type": "markdown",
   "id": "eaea2f62",
   "metadata": {},
   "source": [
    "### How many splits does the dataset has?"
   ]
  },
  {
   "cell_type": "code",
   "execution_count": 2,
   "id": "38dff7c4",
   "metadata": {},
   "outputs": [
    {
     "data": {
      "text/plain": [
       "['train', 'test', 'unsupervised']"
      ]
     },
     "execution_count": 2,
     "metadata": {},
     "output_type": "execute_result"
    }
   ],
   "source": [
    "from datasets import get_dataset_split_names\n",
    "\n",
    "get_dataset_split_names(\"imdb\")"
   ]
  },
  {
   "cell_type": "markdown",
   "id": "e2793054",
   "metadata": {},
   "source": [
    "The dataset is composed of 3 splits: `train`, `test` and `unsupervised`"
   ]
  },
  {
   "cell_type": "markdown",
   "id": "7db8e2f9",
   "metadata": {},
   "source": [
    "----------------\n",
    "\n",
    "## FastText setup"
   ]
  },
  {
   "cell_type": "code",
   "execution_count": 3,
   "id": "0af7a2cc",
   "metadata": {},
   "outputs": [
    {
     "name": "stdout",
     "output_type": "stream",
     "text": [
      "Number of values in train dataset:  25000\n",
      "Number of negative (0) and positive (1) sentences in train supervised split:\n",
      "0    12500\n",
      "1    12500\n",
      "Name: label, dtype: int64\n",
      "--------------------------------\n",
      "Number of values in test dataset:  25000\n",
      "Number of negative (0) and positive (1) sentences in test supervised split:\n",
      "0    12500\n",
      "1    12500\n",
      "Name: label, dtype: int64\n"
     ]
    }
   ],
   "source": [
    "import fasttext\n",
    "import pandas as pd\n",
    "\n",
    "train = dataset[\"train\"].to_pandas()\n",
    "test = dataset[\"test\"].to_pandas()\n",
    "\n",
    "print(\"Number of values in train dataset: \", len(train))\n",
    "print(\"Number of negative (0) and positive (1) sentences in train supervised split:\\n{0}\".format(train['label'].value_counts()))\n",
    "print(\"--------------------------------\")\n",
    "print(\"Number of values in test dataset: \", len(test))\n",
    "print(\"Number of negative (0) and positive (1) sentences in test supervised split:\\n{0}\".format(test['label'].value_counts()))"
   ]
  },
  {
   "cell_type": "code",
   "execution_count": 4,
   "id": "1fc7bcea",
   "metadata": {},
   "outputs": [
    {
     "data": {
      "text/html": [
       "<div>\n",
       "<style scoped>\n",
       "    .dataframe tbody tr th:only-of-type {\n",
       "        vertical-align: middle;\n",
       "    }\n",
       "\n",
       "    .dataframe tbody tr th {\n",
       "        vertical-align: top;\n",
       "    }\n",
       "\n",
       "    .dataframe thead th {\n",
       "        text-align: right;\n",
       "    }\n",
       "</style>\n",
       "<table border=\"1\" class=\"dataframe\">\n",
       "  <thead>\n",
       "    <tr style=\"text-align: right;\">\n",
       "      <th></th>\n",
       "      <th>text</th>\n",
       "      <th>label</th>\n",
       "    </tr>\n",
       "  </thead>\n",
       "  <tbody>\n",
       "    <tr>\n",
       "      <th>0</th>\n",
       "      <td>I rented I AM CURIOUS-YELLOW from my video sto...</td>\n",
       "      <td>0</td>\n",
       "    </tr>\n",
       "    <tr>\n",
       "      <th>1</th>\n",
       "      <td>\"I Am Curious: Yellow\" is a risible and preten...</td>\n",
       "      <td>0</td>\n",
       "    </tr>\n",
       "    <tr>\n",
       "      <th>2</th>\n",
       "      <td>If only to avoid making this type of film in t...</td>\n",
       "      <td>0</td>\n",
       "    </tr>\n",
       "    <tr>\n",
       "      <th>3</th>\n",
       "      <td>This film was probably inspired by Godard's Ma...</td>\n",
       "      <td>0</td>\n",
       "    </tr>\n",
       "    <tr>\n",
       "      <th>4</th>\n",
       "      <td>Oh, brother...after hearing about this ridicul...</td>\n",
       "      <td>0</td>\n",
       "    </tr>\n",
       "  </tbody>\n",
       "</table>\n",
       "</div>"
      ],
      "text/plain": [
       "                                                text  label\n",
       "0  I rented I AM CURIOUS-YELLOW from my video sto...      0\n",
       "1  \"I Am Curious: Yellow\" is a risible and preten...      0\n",
       "2  If only to avoid making this type of film in t...      0\n",
       "3  This film was probably inspired by Godard's Ma...      0\n",
       "4  Oh, brother...after hearing about this ridicul...      0"
      ]
     },
     "execution_count": 4,
     "metadata": {},
     "output_type": "execute_result"
    }
   ],
   "source": [
    "train.head()"
   ]
  },
  {
   "cell_type": "markdown",
   "id": "1681a692",
   "metadata": {},
   "source": [
    "### Preprocessing"
   ]
  },
  {
   "cell_type": "markdown",
   "id": "ed50ff1e",
   "metadata": {},
   "source": [
    "Before training, we remove the punctuation in our text samples and lowercase them."
   ]
  },
  {
   "cell_type": "code",
   "execution_count": 5,
   "id": "6c85bc81",
   "metadata": {},
   "outputs": [
    {
     "data": {
      "text/html": [
       "<div>\n",
       "<style scoped>\n",
       "    .dataframe tbody tr th:only-of-type {\n",
       "        vertical-align: middle;\n",
       "    }\n",
       "\n",
       "    .dataframe tbody tr th {\n",
       "        vertical-align: top;\n",
       "    }\n",
       "\n",
       "    .dataframe thead th {\n",
       "        text-align: right;\n",
       "    }\n",
       "</style>\n",
       "<table border=\"1\" class=\"dataframe\">\n",
       "  <thead>\n",
       "    <tr style=\"text-align: right;\">\n",
       "      <th></th>\n",
       "      <th>text</th>\n",
       "      <th>label</th>\n",
       "    </tr>\n",
       "  </thead>\n",
       "  <tbody>\n",
       "    <tr>\n",
       "      <th>0</th>\n",
       "      <td>i rented i am curiousyellow from my video stor...</td>\n",
       "      <td>0</td>\n",
       "    </tr>\n",
       "    <tr>\n",
       "      <th>1</th>\n",
       "      <td>i am curious yellow is a risible and pretentio...</td>\n",
       "      <td>0</td>\n",
       "    </tr>\n",
       "    <tr>\n",
       "      <th>2</th>\n",
       "      <td>if only to avoid making this type of film in t...</td>\n",
       "      <td>0</td>\n",
       "    </tr>\n",
       "    <tr>\n",
       "      <th>3</th>\n",
       "      <td>this film was probably inspired by godards mas...</td>\n",
       "      <td>0</td>\n",
       "    </tr>\n",
       "    <tr>\n",
       "      <th>4</th>\n",
       "      <td>oh brotherafter hearing about this ridiculous ...</td>\n",
       "      <td>0</td>\n",
       "    </tr>\n",
       "  </tbody>\n",
       "</table>\n",
       "</div>"
      ],
      "text/plain": [
       "                                                text  label\n",
       "0  i rented i am curiousyellow from my video stor...      0\n",
       "1  i am curious yellow is a risible and pretentio...      0\n",
       "2  if only to avoid making this type of film in t...      0\n",
       "3  this film was probably inspired by godards mas...      0\n",
       "4  oh brotherafter hearing about this ridiculous ...      0"
      ]
     },
     "execution_count": 5,
     "metadata": {},
     "output_type": "execute_result"
    }
   ],
   "source": [
    "from string import punctuation\n",
    "from typing import List\n",
    "\n",
    "def preprocessor(x_list: List[str]) -> List[str]:\n",
    "    \"\"\"\n",
    "    Preprocessing function to lowercase and remove punctuation of a list of string.\n",
    "    \n",
    "    Args:\n",
    "        x_list: List of strings\n",
    "    \n",
    "    Returns:\n",
    "        List of preprocessed strings.\n",
    "    \"\"\"\n",
    "    return [x.lower().translate(str.maketrans(\"\", \"\", punctuation)) for x in x_list]\n",
    "\n",
    "train['text'] = preprocessor(train['text'])\n",
    "test['text'] = preprocessor(test['text'])\n",
    "train.head()"
   ]
  },
  {
   "cell_type": "markdown",
   "id": "25561b7e",
   "metadata": {},
   "source": [
    "### Shuffling\n",
    "\n",
    "To avoid having a strong model bias toward negative, we shuffle our data before training."
   ]
  },
  {
   "cell_type": "code",
   "execution_count": 6,
   "id": "8948d0ea",
   "metadata": {},
   "outputs": [
    {
     "data": {
      "text/html": [
       "<div>\n",
       "<style scoped>\n",
       "    .dataframe tbody tr th:only-of-type {\n",
       "        vertical-align: middle;\n",
       "    }\n",
       "\n",
       "    .dataframe tbody tr th {\n",
       "        vertical-align: top;\n",
       "    }\n",
       "\n",
       "    .dataframe thead th {\n",
       "        text-align: right;\n",
       "    }\n",
       "</style>\n",
       "<table border=\"1\" class=\"dataframe\">\n",
       "  <thead>\n",
       "    <tr style=\"text-align: right;\">\n",
       "      <th></th>\n",
       "      <th>text</th>\n",
       "      <th>label</th>\n",
       "    </tr>\n",
       "  </thead>\n",
       "  <tbody>\n",
       "    <tr>\n",
       "      <th>0</th>\n",
       "      <td>good horror movies from france are quite rare ...</td>\n",
       "      <td>1</td>\n",
       "    </tr>\n",
       "    <tr>\n",
       "      <th>1</th>\n",
       "      <td>whoever says pokemon is stupid can die this mo...</td>\n",
       "      <td>1</td>\n",
       "    </tr>\n",
       "    <tr>\n",
       "      <th>2</th>\n",
       "      <td>believe it or dont i have my very own dvd copy...</td>\n",
       "      <td>0</td>\n",
       "    </tr>\n",
       "    <tr>\n",
       "      <th>3</th>\n",
       "      <td>im sorry but this is just awful i have told pe...</td>\n",
       "      <td>0</td>\n",
       "    </tr>\n",
       "    <tr>\n",
       "      <th>4</th>\n",
       "      <td>i watched this movie also and altho it is very...</td>\n",
       "      <td>0</td>\n",
       "    </tr>\n",
       "  </tbody>\n",
       "</table>\n",
       "</div>"
      ],
      "text/plain": [
       "                                                text  label\n",
       "0  good horror movies from france are quite rare ...      1\n",
       "1  whoever says pokemon is stupid can die this mo...      1\n",
       "2  believe it or dont i have my very own dvd copy...      0\n",
       "3  im sorry but this is just awful i have told pe...      0\n",
       "4  i watched this movie also and altho it is very...      0"
      ]
     },
     "execution_count": 6,
     "metadata": {},
     "output_type": "execute_result"
    }
   ],
   "source": [
    "def shuffle_dataset(dataset: pd.DataFrame) -> pd.DataFrame:\n",
    "    \"\"\"\n",
    "    Shuffle pandas dataset \n",
    "    \n",
    "    Args:\n",
    "        dataset: pandas Dataframe\n",
    "    \n",
    "    Returns:\n",
    "       The shuffled dataset \n",
    "    \"\"\"\n",
    "    return dataset.sample(frac=1).reset_index(drop=True)\n",
    "\n",
    "train = shuffle_dataset(train)\n",
    "test = shuffle_dataset(test)\n",
    "\n",
    "train.head()"
   ]
  },
  {
   "cell_type": "markdown",
   "id": "fe1d0dce",
   "metadata": {},
   "source": [
    "### Turn the dataset into a dataset compatible with FastText"
   ]
  },
  {
   "cell_type": "markdown",
   "id": "7fb7b631",
   "metadata": {},
   "source": [
    "To be able to use `fasttext`, we have to transform each row of our dataset with the following format :\n",
    "\n",
    "`__label__<label> <corresponding_text>`\n",
    "\n",
    "Each line has to be saved in a file which will be used to train with FastText."
   ]
  },
  {
   "cell_type": "code",
   "execution_count": 7,
   "id": "95ad62e8",
   "metadata": {},
   "outputs": [],
   "source": [
    "from random import shuffle\n",
    "\n",
    "def dataset_to_fasttext_file(df: pd.DataFrame, filename: str) -> None:\n",
    "    \"\"\"\n",
    "    Transform dataframe to a fasttext file with correct format.\n",
    "    \n",
    "    Args:\n",
    "        df: pandas Dataframe\n",
    "        filename: str \n",
    "    \n",
    "    Returns:\n",
    "        None\n",
    "    \"\"\"\n",
    "    if df['label'].values.__contains__(0):\n",
    "        df['label'] = df['label'].map({0: \"negative\", 1: \"positive\"})\n",
    "    df = df.astype('str')\n",
    "    with open(filename, 'w') as file:\n",
    "        for index, row in df.iterrows():\n",
    "            fasttext = '__label__' + row['label'] + ' ' + row['text'] + '\\n'\n",
    "            file.write(fasttext)\n",
    "    \n",
    "dataset_to_fasttext_file(train, \"train.fasttext\")\n",
    "dataset_to_fasttext_file(test, \"test.fasttext\")"
   ]
  },
  {
   "cell_type": "markdown",
   "id": "d8eefae3",
   "metadata": {},
   "source": [
    "## FastText classifier\n",
    "\n",
    "Let's train a simple classifier with our formated text file:"
   ]
  },
  {
   "cell_type": "code",
   "execution_count": 8,
   "id": "a03921fe",
   "metadata": {},
   "outputs": [
    {
     "name": "stderr",
     "output_type": "stream",
     "text": [
      "Read 5M words\n",
      "Number of words:  121891\n",
      "Number of labels: 2\n",
      "Progress: 100.0% words/sec/thread: 2383320 lr:  0.000000 avg.loss:  0.367719 ETA:   0h 0m 0s\n"
     ]
    }
   ],
   "source": [
    "model = fasttext.train_supervised(input=\"train.fasttext\")"
   ]
  },
  {
   "cell_type": "code",
   "execution_count": 9,
   "id": "ab0b5c0a",
   "metadata": {},
   "outputs": [
    {
     "name": "stdout",
     "output_type": "stream",
     "text": [
      "Number of samples: 25000\n",
      "Accurracy: 0.87608\n"
     ]
    }
   ],
   "source": [
    "test_prediction = model.test(\"test.fasttext\")\n",
    "print('Number of samples:', test_prediction[0])\n",
    "print('Accurracy:', test_prediction[1])"
   ]
  },
  {
   "cell_type": "markdown",
   "id": "6c50bdfa",
   "metadata": {},
   "source": [
    "### Hyperparameters search"
   ]
  },
  {
   "cell_type": "markdown",
   "id": "8be1cc6a",
   "metadata": {},
   "source": [
    "To find the best parameters for our classifier, we have to split our training data and create a validation dataset."
   ]
  },
  {
   "cell_type": "code",
   "execution_count": 10,
   "id": "ee955e5a",
   "metadata": {},
   "outputs": [
    {
     "data": {
      "text/html": [
       "<div>\n",
       "<style scoped>\n",
       "    .dataframe tbody tr th:only-of-type {\n",
       "        vertical-align: middle;\n",
       "    }\n",
       "\n",
       "    .dataframe tbody tr th {\n",
       "        vertical-align: top;\n",
       "    }\n",
       "\n",
       "    .dataframe thead th {\n",
       "        text-align: right;\n",
       "    }\n",
       "</style>\n",
       "<table border=\"1\" class=\"dataframe\">\n",
       "  <thead>\n",
       "    <tr style=\"text-align: right;\">\n",
       "      <th></th>\n",
       "      <th>text</th>\n",
       "      <th>label</th>\n",
       "    </tr>\n",
       "  </thead>\n",
       "  <tbody>\n",
       "    <tr>\n",
       "      <th>0</th>\n",
       "      <td>good horror movies from france are quite rare ...</td>\n",
       "      <td>positive</td>\n",
       "    </tr>\n",
       "    <tr>\n",
       "      <th>1</th>\n",
       "      <td>whoever says pokemon is stupid can die this mo...</td>\n",
       "      <td>positive</td>\n",
       "    </tr>\n",
       "    <tr>\n",
       "      <th>2</th>\n",
       "      <td>believe it or dont i have my very own dvd copy...</td>\n",
       "      <td>negative</td>\n",
       "    </tr>\n",
       "    <tr>\n",
       "      <th>3</th>\n",
       "      <td>im sorry but this is just awful i have told pe...</td>\n",
       "      <td>negative</td>\n",
       "    </tr>\n",
       "    <tr>\n",
       "      <th>4</th>\n",
       "      <td>i watched this movie also and altho it is very...</td>\n",
       "      <td>negative</td>\n",
       "    </tr>\n",
       "  </tbody>\n",
       "</table>\n",
       "</div>"
      ],
      "text/plain": [
       "                                                text     label\n",
       "0  good horror movies from france are quite rare ...  positive\n",
       "1  whoever says pokemon is stupid can die this mo...  positive\n",
       "2  believe it or dont i have my very own dvd copy...  negative\n",
       "3  im sorry but this is just awful i have told pe...  negative\n",
       "4  i watched this movie also and altho it is very...  negative"
      ]
     },
     "execution_count": 10,
     "metadata": {},
     "output_type": "execute_result"
    }
   ],
   "source": [
    "validation_size = int(len(train) * 0.3)\n",
    "validation = train.iloc[:validation_size:, :] \n",
    "train = train.iloc[validation_size:, :]\n",
    "\n",
    "validation.head()"
   ]
  },
  {
   "cell_type": "markdown",
   "id": "969c33c3",
   "metadata": {},
   "source": [
    "Let's format our validation dataset to a fasttext file:"
   ]
  },
  {
   "cell_type": "code",
   "execution_count": 11,
   "id": "c5407a12",
   "metadata": {},
   "outputs": [],
   "source": [
    "dataset_to_fasttext_file(validation, \"validation.fasttext\")"
   ]
  },
  {
   "cell_type": "markdown",
   "id": "4ef4602b",
   "metadata": {},
   "source": [
    "Now, let's train and search for the best hyperparameters with the validation dataset:"
   ]
  },
  {
   "cell_type": "code",
   "execution_count": 12,
   "id": "7d2e077e",
   "metadata": {},
   "outputs": [
    {
     "name": "stderr",
     "output_type": "stream",
     "text": [
      "Progress:   2.7% Trials:    2 Best score:  0.904267 ETA:   0h 4m51s\n",
      "Aborting autotune...\n",
      "Progress:   2.8% Trials:    2 Best score:  0.904267 ETA:   0h 4m51s\n",
      "Training again with best arguments\n",
      "Read 5M words\n",
      "Number of words:  121891\n",
      "Number of labels: 2\n",
      "Progress: 100.0% words/sec/thread: 3249684 lr:  0.000000 avg.loss:  0.381792 ETA:   0h 0m 0s\n"
     ]
    }
   ],
   "source": [
    "model_hyper = fasttext.train_supervised(input=\"train.fasttext\", autotuneValidationFile=\"validation.fasttext\")"
   ]
  },
  {
   "cell_type": "code",
   "execution_count": null,
   "id": "9a99b3aa",
   "metadata": {},
   "outputs": [
    {
     "name": "stdout",
     "output_type": "stream",
     "text": [
      "Number of samples: 25000\n",
      "Accurracy: 0.89824\n"
     ]
    }
   ],
   "source": [
    "test_hyper_prediction = model_hyper.test(\"test.fasttext\")\n",
    "print('Number of samples:', test_hyper_prediction[0])\n",
    "print('Accurracy:', test_hyper_prediction[1])"
   ]
  },
  {
   "cell_type": "markdown",
   "id": "7d3dda3a",
   "metadata": {},
   "source": [
    "### What is/are the difference(s) between the two models ?"
   ]
  },
  {
   "cell_type": "markdown",
   "id": "f386fb93",
   "metadata": {},
   "source": [
    "Let's compare the two accuracy of our models with the test dataset:"
   ]
  },
  {
   "cell_type": "code",
   "execution_count": null,
   "id": "4a1d962f",
   "metadata": {},
   "outputs": [
    {
     "name": "stdout",
     "output_type": "stream",
     "text": [
      "Simple model on test dataset accuracy: 0.87592\n",
      "Hyper model on test dataset accuracy: 0.89824\n",
      "Accuracy difference :  0.022320000000000007\n"
     ]
    }
   ],
   "source": [
    "print(\"Simple model on test dataset accuracy:\", test_prediction[1])\n",
    "print(\"Hyper model on test dataset accuracy:\", test_hyper_prediction[1])\n",
    "print(\"Accuracy difference : \", abs(test_prediction[1] - test_hyper_prediction[1]))"
   ]
  },
  {
   "cell_type": "markdown",
   "id": "c0a22e43",
   "metadata": {},
   "source": [
    "We can observe that our second model is more accurate on its prediction than our first dataset.\n",
    "The hyperparameters search worked as expected and we got better results."
   ]
  },
  {
   "cell_type": "markdown",
   "id": "d6924b00",
   "metadata": {},
   "source": [
    "Now, let's observe the differences between the hyper parameters of our two models:"
   ]
  },
  {
   "cell_type": "code",
   "execution_count": null,
   "id": "dfcaed2b",
   "metadata": {},
   "outputs": [
    {
     "name": "stdout",
     "output_type": "stream",
     "text": [
      "Simple model learning rate: 0.1\n",
      "Hyper model learning rate: 0.08499425639667486\n"
     ]
    }
   ],
   "source": [
    "print(\"Simple model learning rate:\", model.lr)\n",
    "print(\"Hyper model learning rate:\", model_hyper.lr)"
   ]
  },
  {
   "cell_type": "code",
   "execution_count": null,
   "id": "c0ce6fe8",
   "metadata": {},
   "outputs": [
    {
     "name": "stdout",
     "output_type": "stream",
     "text": [
      "Simple model epoch: 5\n",
      "Hyper model epoch: 100\n"
     ]
    }
   ],
   "source": [
    "print(\"Simple model epoch:\", model.epoch)\n",
    "print(\"Hyper model epoch:\", model_hyper.epoch)"
   ]
  },
  {
   "cell_type": "code",
   "execution_count": null,
   "id": "63e46691",
   "metadata": {},
   "outputs": [
    {
     "name": "stdout",
     "output_type": "stream",
     "text": [
      "Simple model loss function: loss_name.softmax\n",
      "Hyper model loss function: loss_name.softmax\n"
     ]
    }
   ],
   "source": [
    "print(\"Simple model loss function:\", model.loss)\n",
    "print(\"Hyper model loss function:\", model_hyper.loss)"
   ]
  },
  {
   "cell_type": "code",
   "execution_count": null,
   "id": "653b66b2",
   "metadata": {},
   "outputs": [
    {
     "name": "stdout",
     "output_type": "stream",
     "text": [
      "Simple model size of word vectors: 100\n",
      "Hyper model size of word vectors: 92\n"
     ]
    }
   ],
   "source": [
    "print(\"Simple model size of word vectors:\", model.dim)\n",
    "print(\"Hyper model size of word vectors:\", model_hyper.dim)"
   ]
  },
  {
   "cell_type": "code",
   "execution_count": null,
   "id": "9dcf3f81",
   "metadata": {},
   "outputs": [
    {
     "name": "stdout",
     "output_type": "stream",
     "text": [
      "Simple model loss function: 0\n",
      "Hyper model loss function: 4110692\n"
     ]
    }
   ],
   "source": [
    "print(\"Simple model number of bucket:\", model.bucket)\n",
    "print(\"Hyper model number of bucket:\", model_hyper.bucket)"
   ]
  },
  {
   "cell_type": "markdown",
   "id": "94dfc933",
   "metadata": {},
   "source": [
    "First, we can see that the *learning rate* is more accurate for our second model than the first one. This parameter is really important in the resulting accuracy of our prediction.\n",
    "\n",
    "An other mismatch between the two models is that the *number of epoch* used for both of them are really different, **5** against **100**, meaning that our `model_hyper` has received more training than the simple one.\n",
    "\n",
    "However, the two models use the same *loss function*, another important hyper-parameter in their training.\n",
    "\n",
    "We can finally notice that the *size of word vectors* and the *number of bucket* between the two models are not the same. We can conclude that the values of the `model_hyper` model are better for this two parameters."
   ]
  },
  {
   "cell_type": "markdown",
   "id": "7da598c9",
   "metadata": {},
   "source": [
    "### Identify prediction failure"
   ]
  },
  {
   "cell_type": "markdown",
   "id": "13e7874a",
   "metadata": {},
   "source": [
    "Using the tuned model, let's take 2 wrongly classified examples from the test set, and try explaining why the model failed:"
   ]
  },
  {
   "cell_type": "code",
   "execution_count": null,
   "id": "6941fe51",
   "metadata": {},
   "outputs": [
    {
     "name": "stdout",
     "output_type": "stream",
     "text": [
      "Expected:\n",
      "__label__negative\n",
      "Got:\n",
      "__label__positive\n",
      "Text:\n",
      "the brave one is about a new york radio show host named erica bain jodie foster her life is a dream living in the city she grew up in and loves she has her great fiancé david naveen andrews whom she is planning to marry but one night while erica and david are out walking their dog they are attacked and mugged by a group of degenerates leaving david dead erica recovers but is heartbroken and traumatized later on and can barely cope with real life anymore she buys a gun off a guy on the streets for protection but one day shes shopping in a store and a man comes in and shoots the clerk dead it is then that erica shoots and kills this man and she becomes a vigilante killing anyone who tries to threaten or harm her or any others at the same time detective mercer terrence howard is tracking down this elusive unknown killer and in the process becomes friends with erica erica begins to regain her sanity as she kills these violent people but is unsure of whether or not what shes doing is morally right and as her and mercer become closer he doesnt even realize the unknown murderous assailant is right next to himbr br jodie foster gives a very good performance in the brave one she portrays this type of violent morally corrupted character brilliantly terrence howard is also great in this movie both have excellent chemistry together and strengthen the film to a certain level the brave one looks visually pristine and conveys some brilliant camera work but not all of it works to a great effect the scenes where erica is absolutely traumatized and afraid to walk out her front door to face the world the camera swayed back and forth to the sides in an almost dreamlike way and really captured the moment with essence whereas almost every time erica killed somebody everything just had to go slomo and show her facial expressions in fine detail the slomo was properly used when erica committed her first murder but why keep doing this effect almost every time she committed murder the camera work creates a great atmosphere in most of the film but there a few scenes here that are just plain overkillbr br the brave one is very much about how these murders affect erica emotionally her fiancé is killed by a group of thugs and suddenly her love of new york city is turned upside down she realizes that there is a dark side to the beloved city and she says so on her radio show i dont completely understand this though erica acts as if she never realized that violence can occur at night in the city and thats pretty stupid if she lived there all her life she must be either blind or very oblivious erica also seems to be a glutton for inhumane murderous people she really doesnt even have to go look for them they just to come to her as if theyre begging to be shot dead for their wrongdoing the brave one deals with the morals and proper use of violence strongly at first and then suddenly it glorifies it the ending is very negative and completely immoral and inhumane it also negates the purpose of terrence howards character which the movie spends so much time trying to evenly develop and suddenly his morals take a uturn the morals in the brave one become very fractured and just plain shatter all over the place by the end so violence is okay its a good thing to commit murder as long as its for vengeance i pretty much refuse to believe that you know why because i have a conscience which this film surely lacks it is not right to take the life of another person no matter how bad they are or how much you hate them erica bain sets out to stop these evildoers but in the end she is no better than the horrible people she killsbr br jodie foster and terrence howard provide a lot of strength for this movie the brave one contains a strong message but that message is both immoral and wrong this movie may look pretty well acted and intelligently strong but it becomes pretty rotten by the end i give the brave one a 15 out of 4 the message is very out of line and morally incorrect and really cant be saved by the good acting\n",
      "\n",
      "Expected:\n",
      "__label__positive\n",
      "Got:\n",
      "__label__negative\n",
      "Text:\n",
      "before seeing this picture i was quite skeptic i dont like movies with an agenda nor do i appreciate being scared into thinking like the writer i was also afraid this would be like the 2part miniseries 104 which had a farfetched concept little relation to the real world and very poor execution at the beginning is says this film is fiction but the events portrayed and the information about uk emergency planning are based on extensive research and the general feeling is that youre not being sold on an idea but that youre being taught a lesson in civil awareness the message that is being conveyed is obvious from the start it is coming and were not prepared the use of real places and a scenario which not only could happen  there are plans for when it does  all add to the disturbing effect the movie will have on even the most cynical of viewers the movies perspective is that of the society and it stays away from heartbreaking personal moments which wont convey the message so none of the romeojuliet drama were used to\n",
      "\n"
     ]
    }
   ],
   "source": [
    "# Read test.fasttext to get some test line with fasttext format\n",
    "fasttext_lines = []\n",
    "with open(\"test.fasttext\", \"r\") as file:\n",
    "    for i in range(40):\n",
    "        fasttext_lines.append(file.readline().strip())\n",
    "\n",
    "# Predit with our model the label for the lines read\n",
    "test_predictions = model_hyper.predict(fasttext_lines)\n",
    "\n",
    "# Get two examples from our lines and predictions:\n",
    "# one positive instead of negative, and one negative instead of positive\n",
    "nb_example = 0\n",
    "p_n = 0\n",
    "n_p = 0\n",
    "for i in range(40):\n",
    "    label = \"__label__positive\"\n",
    "    if (fasttext_lines[i].find(\"__label__negative\") != -1):\n",
    "        label = \"__label__negative\"\n",
    "    if test_predictions[0][i][0] == \"__label__positive\" and label == \"__label__negative\" and not p_n:\n",
    "        print(\"Expected:\\n\" + fasttext_lines[i].split(' ')[0])\n",
    "        print(\"Got:\\n\" + test_predictions[0][i][0])\n",
    "        print(\"Text:\\n\" + fasttext_lines[i].split(label)[1].lstrip())\n",
    "        print()\n",
    "        p_n = 1\n",
    "    if test_predictions[0][i][0] == \"__label__negative\" and label == \"__label__positive\" and not n_p:\n",
    "        print(\"Expected:\\n\" + fasttext_lines[i].split(' ')[0])\n",
    "        print(\"Got:\\n\" + test_predictions[0][i][0])\n",
    "        print(\"Text:\\n\" + fasttext_lines[i].split(label)[1].lstrip())\n",
    "        print()\n",
    "        n_p = 1\n",
    "    if p_n and n_p:\n",
    "        break"
   ]
  },
  {
   "cell_type": "markdown",
   "id": "68766392",
   "metadata": {},
   "source": [
    "Here we took two examples of mistakes that our model does:\n",
    "- one were the predicted label was positive instead of negative\n",
    "- one were the predicted label was negative instead of positive\n",
    "\n",
    "The main reason of those mistakes is probably because theses inputs contains words that the model probably classify as the other label.\n",
    "\n",
    "Indeed, for the first input, we can find those keywords that can be classified as 'positive':\n",
    "- loves\n",
    "- good\n",
    "- her great fiancé\n",
    "- excellent\n",
    "- brillant\n",
    "- good acting\n",
    "- ...\n",
    "\n",
    "Moreover, we can also notice that this text is pretty long, then, maybe more a text is long, higher is the probability that it will be considered as positive.\n",
    "\n",
    "For the second input, we can find those keywords that can be classified as 'negative':\n",
    "- I don't like\n",
    "- very poor execution\n",
    "- heartbreaking\n",
    "- drama\n",
    "- ...\n",
    "  "
   ]
  }
 ],
 "metadata": {
  "kernelspec": {
   "display_name": "Python 3.10.6 64-bit",
   "language": "python",
   "name": "python3"
  },
  "language_info": {
   "codemirror_mode": {
    "name": "ipython",
    "version": 3
   },
   "file_extension": ".py",
   "mimetype": "text/x-python",
   "name": "python",
   "nbconvert_exporter": "python",
   "pygments_lexer": "ipython3",
   "version": "3.10.6"
  },
  "vscode": {
   "interpreter": {
    "hash": "e7370f93d1d0cde622a1f8e1c04877d8463912d04d973331ad4851f04de6915a"
   }
  }
 },
 "nbformat": 4,
 "nbformat_minor": 5
}
